{
  "cells": [
    {
      "cell_type": "code",
      "source": [],
      "metadata": {
        "id": "K2bo4hzFPwM0"
      },
      "id": "K2bo4hzFPwM0",
      "execution_count": null,
      "outputs": []
    },
    {
      "cell_type": "markdown",
      "id": "e7060644",
      "metadata": {
        "id": "e7060644"
      },
      "source": [
        "## Variables"
      ]
    },
    {
      "cell_type": "markdown",
      "id": "916f2b25",
      "metadata": {
        "id": "916f2b25"
      },
      "source": [
        "- bool , integer , string"
      ]
    },
    {
      "cell_type": "markdown",
      "id": "96c6799a-5cc4-4bc0-ba49-64d506da9f8d",
      "metadata": {
        "id": "96c6799a-5cc4-4bc0-ba49-64d506da9f8d"
      },
      "source": [
        "## Addition"
      ]
    },
    {
      "cell_type": "code",
      "execution_count": null,
      "id": "4d044139-d40f-48b8-b345-970bd972bffb",
      "metadata": {
        "id": "4d044139-d40f-48b8-b345-970bd972bffb"
      },
      "outputs": [],
      "source": [
        "# a = 10\n",
        "# b = 5\n",
        "#  print(a + b)"
      ]
    },
    {
      "cell_type": "markdown",
      "id": "1c39f659-6f60-4986-b47a-8aac2eb8a2a7",
      "metadata": {
        "id": "1c39f659-6f60-4986-b47a-8aac2eb8a2a7"
      },
      "source": [
        "## Subtraction"
      ]
    },
    {
      "cell_type": "code",
      "execution_count": null,
      "id": "82f444fa-fe92-4757-aee2-a9a126b420b9",
      "metadata": {
        "id": "82f444fa-fe92-4757-aee2-a9a126b420b9"
      },
      "outputs": [],
      "source": [
        "#  print(a - b)"
      ]
    },
    {
      "cell_type": "markdown",
      "id": "a0fa8d57-2217-4955-ade9-3daed5645590",
      "metadata": {
        "id": "a0fa8d57-2217-4955-ade9-3daed5645590"
      },
      "source": [
        "## Multiplication"
      ]
    },
    {
      "cell_type": "code",
      "execution_count": null,
      "id": "aabcd03d-5fc0-4c4b-b4f0-c9322ef7dcea",
      "metadata": {
        "id": "aabcd03d-5fc0-4c4b-b4f0-c9322ef7dcea"
      },
      "outputs": [],
      "source": [
        "#  print(a * b)"
      ]
    },
    {
      "cell_type": "markdown",
      "id": "25dcc5cd-e278-495b-a7f1-77fe2cee45eb",
      "metadata": {
        "id": "25dcc5cd-e278-495b-a7f1-77fe2cee45eb"
      },
      "source": [
        "## Multiplication"
      ]
    },
    {
      "cell_type": "code",
      "execution_count": null,
      "id": "7fc3ebfe-b2c7-4ead-a755-69c86f0604bd",
      "metadata": {
        "id": "7fc3ebfe-b2c7-4ead-a755-69c86f0604bd"
      },
      "outputs": [],
      "source": [
        "#  print(a * b)"
      ]
    },
    {
      "cell_type": "markdown",
      "id": "8e47122d-4743-4e7c-8a0b-4506fec5753d",
      "metadata": {
        "id": "8e47122d-4743-4e7c-8a0b-4506fec5753d"
      },
      "source": [
        "## Division"
      ]
    },
    {
      "cell_type": "code",
      "execution_count": null,
      "id": "fe1f2e3e-e757-4099-b740-c7b2709e14d8",
      "metadata": {
        "id": "fe1f2e3e-e757-4099-b740-c7b2709e14d8"
      },
      "outputs": [],
      "source": [
        "#  print(a / b)"
      ]
    },
    {
      "cell_type": "markdown",
      "id": "16a9b4bb-41db-47c4-adb5-c385a875a2a4",
      "metadata": {
        "id": "16a9b4bb-41db-47c4-adb5-c385a875a2a4"
      },
      "source": [
        "## Integer Division"
      ]
    },
    {
      "cell_type": "code",
      "execution_count": null,
      "id": "8e08b73d-e3d2-413b-aa7e-6ad233781ea4",
      "metadata": {
        "id": "8e08b73d-e3d2-413b-aa7e-6ad233781ea4"
      },
      "outputs": [],
      "source": [
        "#  print(a // b)"
      ]
    },
    {
      "cell_type": "markdown",
      "id": "758c8dbe-6568-400c-aa0d-48c15ad8870b",
      "metadata": {
        "id": "758c8dbe-6568-400c-aa0d-48c15ad8870b"
      },
      "source": [
        "## Modulus\n",
        "\n"
      ]
    },
    {
      "cell_type": "code",
      "execution_count": null,
      "id": "d56616a5-65fd-4c3e-8f33-5ce2ceb3252d",
      "metadata": {
        "id": "d56616a5-65fd-4c3e-8f33-5ce2ceb3252d"
      },
      "outputs": [],
      "source": [
        "#  print(a % b)"
      ]
    },
    {
      "cell_type": "markdown",
      "id": "9842b48b-9e9e-475c-9e69-ab6709065290",
      "metadata": {
        "id": "9842b48b-9e9e-475c-9e69-ab6709065290"
      },
      "source": [
        "## Exponentiation"
      ]
    },
    {
      "cell_type": "code",
      "execution_count": null,
      "id": "7a697935-6d5f-47cd-98c7-99aadb8742f1",
      "metadata": {
        "id": "7a697935-6d5f-47cd-98c7-99aadb8742f1"
      },
      "outputs": [],
      "source": [
        "# print( 5**2)"
      ]
    },
    {
      "cell_type": "markdown",
      "id": "230006fa-d3f6-4830-96aa-26eb7ae8f759",
      "metadata": {
        "id": "230006fa-d3f6-4830-96aa-26eb7ae8f759"
      },
      "source": [
        "## Example 1: For loop"
      ]
    },
    {
      "cell_type": "code",
      "execution_count": null,
      "id": "8db0385b-b831-4078-819a-0354d9d28bcd",
      "metadata": {
        "id": "8db0385b-b831-4078-819a-0354d9d28bcd"
      },
      "outputs": [],
      "source": [
        "# for i in range(1,7,2):\n",
        "#     print(\"Value:\", i)"
      ]
    },
    {
      "cell_type": "markdown",
      "id": "083c7bb6-860e-475c-875b-69efb912e415",
      "metadata": {
        "id": "083c7bb6-860e-475c-875b-69efb912e415"
      },
      "source": [
        "## While loop"
      ]
    },
    {
      "cell_type": "code",
      "execution_count": null,
      "id": "15456b01-9892-4b92-9260-a63b826927c0",
      "metadata": {
        "id": "15456b01-9892-4b92-9260-a63b826927c0"
      },
      "outputs": [],
      "source": [
        "# count = 0\n",
        "# while count < 5:\n",
        "#     print(\"Count:\", count)\n",
        "#     count += 1"
      ]
    },
    {
      "cell_type": "markdown",
      "id": "1ce8bc01-0813-4acc-b444-5e99f1e011c1",
      "metadata": {
        "id": "1ce8bc01-0813-4acc-b444-5e99f1e011c1"
      },
      "source": [
        "## If-else"
      ]
    },
    {
      "cell_type": "code",
      "execution_count": null,
      "id": "7b2814d4-d434-4113-80f9-1c148e1e8b6d",
      "metadata": {
        "id": "7b2814d4-d434-4113-80f9-1c148e1e8b6d"
      },
      "outputs": [],
      "source": [
        "# x = 10\n",
        "# if x > 0:\n",
        "#     print(\"Positive\")\n",
        "# elif x == 0:\n",
        "#     print(\"Zero\")\n",
        "# else:\n",
        "#     print(\"Negative\")"
      ]
    },
    {
      "cell_type": "markdown",
      "id": "e815c0cd-7169-44da-ae61-217f8617731b",
      "metadata": {
        "id": "e815c0cd-7169-44da-ae61-217f8617731b"
      },
      "source": [
        "## Lists in Python  "
      ]
    },
    {
      "cell_type": "markdown",
      "id": "4c080529",
      "metadata": {
        "id": "4c080529"
      },
      "source": [
        "- nesting ,adding"
      ]
    },
    {
      "cell_type": "code",
      "execution_count": 1,
      "id": "86b0394f-cda7-4e87-9b1d-d3d3ed60002a",
      "metadata": {
        "id": "86b0394f-cda7-4e87-9b1d-d3d3ed60002a"
      },
      "outputs": [],
      "source": [
        "fruits = [\"apple\", \"banana\", \"cherry\"]"
      ]
    },
    {
      "cell_type": "markdown",
      "id": "b408af21-3804-450c-be41-22a78e4cb871",
      "metadata": {
        "id": "b408af21-3804-450c-be41-22a78e4cb871"
      },
      "source": [
        "## Append"
      ]
    },
    {
      "cell_type": "code",
      "execution_count": 2,
      "id": "38d4e04d-38aa-4ef6-8c80-3c73147a24a1",
      "metadata": {
        "id": "38d4e04d-38aa-4ef6-8c80-3c73147a24a1"
      },
      "outputs": [],
      "source": [
        "fruits.append(\"orange\")"
      ]
    },
    {
      "cell_type": "markdown",
      "id": "320d783d-0d40-49ab-aebf-1b8f37f6b68e",
      "metadata": {
        "id": "320d783d-0d40-49ab-aebf-1b8f37f6b68e"
      },
      "source": [
        "## Remove last item"
      ]
    },
    {
      "cell_type": "code",
      "execution_count": null,
      "id": "b2afea0a-2678-429f-bc57-764dfa929b20",
      "metadata": {
        "id": "b2afea0a-2678-429f-bc57-764dfa929b20"
      },
      "outputs": [],
      "source": [
        "# fruits.pop()"
      ]
    },
    {
      "cell_type": "markdown",
      "id": "8a0f0c5d-0899-4a99-8998-7a1963c53367",
      "metadata": {
        "id": "8a0f0c5d-0899-4a99-8998-7a1963c53367"
      },
      "source": [
        "## Access elements"
      ]
    },
    {
      "cell_type": "code",
      "execution_count": null,
      "id": "b269e79c-c934-4bd9-a3fe-f61270075192",
      "metadata": {
        "id": "b269e79c-c934-4bd9-a3fe-f61270075192"
      },
      "outputs": [],
      "source": [
        "# print(fruits[0])       # First item\n",
        "# print(fruits[-1])"
      ]
    },
    {
      "cell_type": "markdown",
      "id": "933e2fbc-cadf-4a45-8691-987778332053",
      "metadata": {
        "id": "933e2fbc-cadf-4a45-8691-987778332053"
      },
      "source": [
        "## Slicing"
      ]
    },
    {
      "cell_type": "code",
      "execution_count": null,
      "id": "c3c82347-cf43-4162-9c1f-0f1ac48e7e2d",
      "metadata": {
        "id": "c3c82347-cf43-4162-9c1f-0f1ac48e7e2d"
      },
      "outputs": [],
      "source": [
        "# print(fruits[1:3])"
      ]
    },
    {
      "cell_type": "code",
      "source": [
        "print(fruits[::-1])"
      ],
      "metadata": {
        "colab": {
          "base_uri": "https://localhost:8080/"
        },
        "id": "Jedw6uXjUGMk",
        "outputId": "1b41a747-04a3-4fc3-f75d-fe84a54647af"
      },
      "id": "Jedw6uXjUGMk",
      "execution_count": 3,
      "outputs": [
        {
          "output_type": "stream",
          "name": "stdout",
          "text": [
            "['orange', 'cherry', 'banana', 'apple']\n"
          ]
        }
      ]
    },
    {
      "cell_type": "markdown",
      "id": "ee0346da-5c5b-4aed-9862-ee11694064e2",
      "metadata": {
        "id": "ee0346da-5c5b-4aed-9862-ee11694064e2"
      },
      "source": [
        "## Split a string into a list"
      ]
    },
    {
      "cell_type": "code",
      "execution_count": null,
      "id": "c7a1060a-f525-4453-a203-fb6270eb4153",
      "metadata": {
        "id": "c7a1060a-f525-4453-a203-fb6270eb4153"
      },
      "outputs": [],
      "source": [
        "# sentence = \"Data Science is fun\"\n",
        "# words = sentence.split()\n",
        "# words\n",
        "\n",
        "# s.replace(old, new)\n",
        "# s.split(sep)\n",
        "# 'a-b'.replace('-', '_')\n",
        "# 'a,b,c'.split(',')\n",
        "\n",
        "\n",
        "# s.startswith(sub)\n",
        "#'hello'.startswith('he')\n",
        "# s.endswith(sub)\n",
        "#'hello'.endswith('lo')\n",
        "\n"
      ]
    },
    {
      "cell_type": "markdown",
      "id": "dc9746f0-b05f-4e55-8600-7c41ca29d41d",
      "metadata": {
        "id": "dc9746f0-b05f-4e55-8600-7c41ca29d41d"
      },
      "source": [
        "##  Dictionary in Python"
      ]
    },
    {
      "cell_type": "code",
      "execution_count": 8,
      "id": "49e78399-8164-430a-a25d-c2f3704e2e8e",
      "metadata": {
        "id": "49e78399-8164-430a-a25d-c2f3704e2e8e"
      },
      "outputs": [],
      "source": [
        "student = {\n",
        "    \"name\": \"Gifton\",\n",
        "    \"age\": 20,\n",
        "    \"course\": \"Data Science\"\n",
        "}"
      ]
    },
    {
      "cell_type": "code",
      "execution_count": null,
      "id": "095735d3-37e4-4d42-905c-6e50c069781b",
      "metadata": {
        "id": "095735d3-37e4-4d42-905c-6e50c069781b"
      },
      "outputs": [],
      "source": [
        "# Accessing a value\n",
        "# print(student[\"name\"])"
      ]
    },
    {
      "cell_type": "markdown",
      "id": "37eeae87-9c99-4708-817a-63c49eee77b2",
      "metadata": {
        "id": "37eeae87-9c99-4708-817a-63c49eee77b2"
      },
      "source": [
        "## Adding a new key-value pair"
      ]
    },
    {
      "cell_type": "code",
      "execution_count": 5,
      "id": "2a80312b-5d28-4aa3-9c35-3bab49b2ae5d",
      "metadata": {
        "colab": {
          "base_uri": "https://localhost:8080/",
          "height": 106
        },
        "id": "2a80312b-5d28-4aa3-9c35-3bab49b2ae5d",
        "outputId": "39c35530-a433-428a-ee7a-811ad53b4397"
      },
      "outputs": [
        {
          "output_type": "error",
          "ename": "SyntaxError",
          "evalue": "invalid syntax (<ipython-input-5-9864d34b90ee>, line 1)",
          "traceback": [
            "\u001b[0;36m  File \u001b[0;32m\"<ipython-input-5-9864d34b90ee>\"\u001b[0;36m, line \u001b[0;32m1\u001b[0m\n\u001b[0;31m    student[\"college\"] =\u001b[0m\n\u001b[0m                         ^\u001b[0m\n\u001b[0;31mSyntaxError\u001b[0m\u001b[0;31m:\u001b[0m invalid syntax\n"
          ]
        }
      ],
      "source": [
        "student[\"college\"] ="
      ]
    },
    {
      "cell_type": "markdown",
      "id": "5cd4b1cf-2d78-46b0-b5da-771d7a1e81ca",
      "metadata": {
        "id": "5cd4b1cf-2d78-46b0-b5da-771d7a1e81ca"
      },
      "source": [
        "## Changing a value"
      ]
    },
    {
      "cell_type": "code",
      "execution_count": null,
      "id": "3481e5a5-254f-4963-824d-64df30725d37",
      "metadata": {
        "id": "3481e5a5-254f-4963-824d-64df30725d37"
      },
      "outputs": [],
      "source": [
        "# student[\"age\"] = 21"
      ]
    },
    {
      "cell_type": "markdown",
      "id": "2e14ecaa-1fb7-44b7-a7ee-93e7056246ee",
      "metadata": {
        "id": "2e14ecaa-1fb7-44b7-a7ee-93e7056246ee"
      },
      "source": [
        "## Removing a key"
      ]
    },
    {
      "cell_type": "code",
      "execution_count": 9,
      "id": "94d14eef-84e3-4b49-b809-28b9163d2c91",
      "metadata": {
        "colab": {
          "base_uri": "https://localhost:8080/",
          "height": 37
        },
        "id": "94d14eef-84e3-4b49-b809-28b9163d2c91",
        "outputId": "07e36a80-9d8e-480e-a240-4dd964ab5009"
      },
      "outputs": [
        {
          "output_type": "execute_result",
          "data": {
            "text/plain": [
              "'Data Science'"
            ],
            "application/vnd.google.colaboratory.intrinsic+json": {
              "type": "string"
            }
          },
          "metadata": {},
          "execution_count": 9
        }
      ],
      "source": [
        "student.pop(\"course\")"
      ]
    },
    {
      "cell_type": "markdown",
      "id": "325c03dc-f68f-4083-b511-2245799065db",
      "metadata": {
        "id": "325c03dc-f68f-4083-b511-2245799065db"
      },
      "source": [
        "## Checking keys and value"
      ]
    },
    {
      "cell_type": "code",
      "execution_count": null,
      "id": "3cf3f4ec-eaeb-4126-a3fb-d7afccb82f14",
      "metadata": {
        "id": "3cf3f4ec-eaeb-4126-a3fb-d7afccb82f14"
      },
      "outputs": [],
      "source": [
        "# print(student.keys())    # dict_keys(['name', 'age', 'college'])\n",
        "# print(student.values())  # dict_values(['Gifton', 21, 'SNGCE'])"
      ]
    },
    {
      "cell_type": "markdown",
      "id": "87ed3c4a-4a16-4a57-a095-adfc33d40da7",
      "metadata": {
        "id": "87ed3c4a-4a16-4a57-a095-adfc33d40da7"
      },
      "source": [
        "## Looping through a dictionary"
      ]
    },
    {
      "cell_type": "code",
      "execution_count": null,
      "id": "a123dad8-f384-44a4-a40a-8c4d0360ef2d",
      "metadata": {
        "id": "a123dad8-f384-44a4-a40a-8c4d0360ef2d"
      },
      "outputs": [],
      "source": [
        "# for key, value in student.items():\n",
        "#     print(key, \":\", value)"
      ]
    },
    {
      "cell_type": "code",
      "execution_count": null,
      "id": "e974f422",
      "metadata": {
        "id": "e974f422"
      },
      "outputs": [],
      "source": [
        "# for value in student.values():\n",
        "#     print(value)"
      ]
    },
    {
      "cell_type": "code",
      "execution_count": null,
      "id": "a2f2d688-9260-41bf-8b5a-971fa304b794",
      "metadata": {
        "id": "a2f2d688-9260-41bf-8b5a-971fa304b794"
      },
      "outputs": [],
      "source": [
        "# # Dictionary of marks in 3 subjects\n",
        "# marks = {\n",
        "#     \"Math\": 87,\n",
        "#     \"Science\": 91,\n",
        "#     \"English\": 78\n",
        "# }\n",
        "\n",
        "# # Calculate total and average\n",
        "# total = sum(marks.values())\n",
        "# average = total / len(marks)\n",
        "# print(\"Total:\", total)\n",
        "# print(\"Average:\", average)"
      ]
    },
    {
      "cell_type": "markdown",
      "id": "778dd808",
      "metadata": {
        "id": "778dd808"
      },
      "source": [
        "TASKS"
      ]
    },
    {
      "cell_type": "markdown",
      "id": "1b88d5e7",
      "metadata": {
        "id": "1b88d5e7"
      },
      "source": [
        "try to write a code for   which ;\n",
        "- caluclate avg from a list\n",
        "- prints only first 3 values of lists one by one\n",
        "- compare three elements find the largest\n",
        "\n",
        "- converts two list to key:value dictionary\n",
        "- reverses contents of list if list is passed visversa for a dictionary"
      ]
    },
    {
      "cell_type": "code",
      "execution_count": null,
      "id": "e7f4f0f1",
      "metadata": {
        "id": "e7f4f0f1"
      },
      "outputs": [],
      "source": []
    }
  ],
  "metadata": {
    "kernelspec": {
      "display_name": "Kaggle (Python 3.x)",
      "language": "python",
      "name": "kaggle"
    },
    "language_info": {
      "codemirror_mode": {
        "name": "ipython",
        "version": 3
      },
      "file_extension": ".py",
      "mimetype": "text/x-python",
      "name": "python",
      "nbconvert_exporter": "python",
      "pygments_lexer": "ipython3",
      "version": "3.10.16"
    },
    "colab": {
      "provenance": []
    }
  },
  "nbformat": 4,
  "nbformat_minor": 5
}