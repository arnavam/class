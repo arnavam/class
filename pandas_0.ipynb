{
 "cells": [
  {
   "cell_type": "markdown",
   "id": "2edb66a7",
   "metadata": {},
   "source": [
    "*Intilalize Pandas*"
   ]
  },
  {
   "cell_type": "code",
   "execution_count": null,
   "id": "386388e9",
   "metadata": {},
   "outputs": [],
   "source": [
    "import pandas as pd\n",
    "import matplotlib.pyplot as plt\n",
    "import seaborn as sns\n"
   ]
  },
  {
   "cell_type": "markdown",
   "id": "58d3bf7e",
   "metadata": {},
   "source": [
    "*Initlialize Series with list (+index), with dict*"
   ]
  },
  {
   "cell_type": "code",
   "execution_count": null,
   "id": "f07e6d57",
   "metadata": {},
   "outputs": [],
   "source": [
    "values= [10,20,30,40]\n",
    "s= pd.Series(values)\n",
    "display(s)\n",
    "\n",
    "s= pd.Series(values,index=['a','b','c','d'])\n",
    "display(s)\n",
    "\n",
    "s=pd.Series({'a':1,'b':2,\"c\":3})\n",
    "\n",
    "display(s)\n",
    "\n"
   ]
  },
  {
   "cell_type": "markdown",
   "id": "30745135",
   "metadata": {},
   "source": [
    "*initliaze DataFrame with nested list(+columns) ,with  dict*"
   ]
  },
  {
   "cell_type": "code",
   "execution_count": null,
   "id": "a67a7fcf",
   "metadata": {},
   "outputs": [],
   "source": [
    "\n",
    "df = pd.DataFrame([[1,2,3], [4,5,6], [7,8,911]], columns=['a','b','c'])\n",
    "display(df)\n",
    "\n",
    "data = {\n",
    "    'Name': ['Alice', 'Bob', 'Charlie'],\n",
    "    'Age': [25, 30, 35],\n",
    "    'City': ['New York', 'Los Angeles', 'Chicago']\n",
    "}\n",
    "\n",
    "\n",
    "df=pd.DataFrame(data)\n",
    "\n",
    "df\n",
    "\n",
    "\n",
    "\n",
    "\n",
    "\n",
    "\n"
   ]
  },
  {
   "cell_type": "markdown",
   "id": "2c84def6",
   "metadata": {},
   "source": [
    "*set_index,reset_index,rename columns*"
   ]
  },
  {
   "cell_type": "code",
   "execution_count": null,
   "id": "df3a6a16",
   "metadata": {},
   "outputs": [],
   "source": [
    "df.set_index('Name',inplace=True)\n",
    "display(df)\n",
    "\n",
    "df=df.reset_index()\n",
    "\n",
    "df.rename(columns={ 'City': 'New_city'}, inplace=True)\n"
   ]
  },
  {
   "cell_type": "markdown",
   "id": "79979e68",
   "metadata": {},
   "source": [
    "*add , sub dataframe*"
   ]
  },
  {
   "cell_type": "code",
   "execution_count": null,
   "id": "d8edabeb",
   "metadata": {},
   "outputs": [],
   "source": [
    "import pandas as pd\n",
    "\n",
    "# First DataFrame\n",
    "df1 = pd.DataFrame({\n",
    "    'A': [10, 20, 30],\n",
    "    'B': [40, 50, 60]\n",
    "})\n",
    "\n",
    "# Second DataFrame\n",
    "df2 = pd.DataFrame({\n",
    "    'A': [1, 2, 3],\n",
    "    'B': [4, 5, 6]\n",
    "})\n",
    "\n",
    "df3=df2+df1\n",
    "display(df3)"
   ]
  },
  {
   "cell_type": "markdown",
   "id": "037a7ac8",
   "metadata": {},
   "source": [
    "*save to csv , execl , json, read from csv*"
   ]
  },
  {
   "cell_type": "code",
   "execution_count": null,
   "id": "d70c14b8",
   "metadata": {},
   "outputs": [],
   "source": [
    "df.to_csv('mydata.csv',index=False)\n",
    "df.to_json('mydata.json')\n"
   ]
  },
  {
   "cell_type": "code",
   "execution_count": 91,
   "id": "0a485bad",
   "metadata": {},
   "outputs": [],
   "source": [
    "df1=pd.read_csv('Laptop_Price.csv')\n"
   ]
  },
  {
   "cell_type": "markdown",
   "id": "20960f78",
   "metadata": {},
   "source": [
    "*head,sample , tail ,describe , info*"
   ]
  },
  {
   "cell_type": "code",
   "execution_count": null,
   "id": "08b6f09c",
   "metadata": {},
   "outputs": [],
   "source": [
    "\n",
    "df1.describe()\n",
    "\n",
    "df1.head()\n",
    "pd.options.display.max_columns=22\n",
    "\n",
    "df1.tail()\n",
    "df1.sample()\n",
    "\n",
    "\n",
    "df1.describe() #returns series\n",
    "df1.info() #None type\n",
    "\n",
    "\n",
    "    "
   ]
  },
  {
   "cell_type": "markdown",
   "id": "ec7a37ad",
   "metadata": {},
   "source": [
    "*shape,columns,index,dtypes*"
   ]
  },
  {
   "cell_type": "code",
   "execution_count": null,
   "id": "505f92b7",
   "metadata": {},
   "outputs": [],
   "source": [
    "df1.dtypes\n",
    "df1.shape\n",
    "df1.columns\n",
    "df1.index"
   ]
  },
  {
   "cell_type": "markdown",
   "id": "e23f14ae",
   "metadata": {},
   "source": [
    "*select .column ,['column']*"
   ]
  },
  {
   "cell_type": "code",
   "execution_count": null,
   "id": "19c800ee",
   "metadata": {},
   "outputs": [],
   "source": [
    "#one column\n",
    "df1.Company\n",
    "df1['Company']"
   ]
  },
  {
   "cell_type": "code",
   "execution_count": null,
   "id": "38a30582",
   "metadata": {},
   "outputs": [],
   "source": [
    "# more than one column\n",
    "df1[['Company','Price_euros']]"
   ]
  },
  {
   "cell_type": "markdown",
   "id": "ef778826",
   "metadata": {},
   "source": [
    "*min,max,mean,median,value_counts,sum*"
   ]
  },
  {
   "cell_type": "code",
   "execution_count": null,
   "id": "1bad3e7b",
   "metadata": {},
   "outputs": [
    {
     "data": {
      "text/plain": [
       "2995.1400000000003"
      ]
     },
     "execution_count": 103,
     "metadata": {},
     "output_type": "execute_result"
    }
   ],
   "source": [
    "df1.CPU_freq.mean()\n",
    "df1.Company.mode() # can be labeled  column unlike others\n",
    "df1.CPU_freq.min()\n",
    "df1.CPU_freq.max()\n",
    "df1.Company.value_counts() # can also be labeled \n",
    "df1.CPU_freq.sum()"
   ]
  },
  {
   "cell_type": "markdown",
   "id": "ffea8674",
   "metadata": {},
   "source": [
    "*selection - normal ,loc , iloc;column operation,copy*"
   ]
  },
  {
   "cell_type": "code",
   "execution_count": null,
   "id": "e3209ca5",
   "metadata": {},
   "outputs": [],
   "source": [
    "df1.Company.unique()"
   ]
  },
  {
   "cell_type": "code",
   "execution_count": null,
   "id": "e26af276",
   "metadata": {},
   "outputs": [],
   "source": [
    "df1['Company']=='Apple'"
   ]
  },
  {
   "cell_type": "code",
   "execution_count": null,
   "id": "5995dd3e",
   "metadata": {},
   "outputs": [],
   "source": [
    "df1[df1['Company']=='Apple']['Product']"
   ]
  },
  {
   "cell_type": "code",
   "execution_count": null,
   "id": "6d54d6f9",
   "metadata": {},
   "outputs": [],
   "source": [
    "df1[(df1['ScreenH'] > 1)  & (df1['Company']=='Apple') ]"
   ]
  },
  {
   "cell_type": "code",
   "execution_count": null,
   "id": "c5893cd0",
   "metadata": {},
   "outputs": [],
   "source": [
    "#selection with condition on rows then columns\n",
    "df1[(df1['ScreenH'] > 1)  & (df1['Company']=='Apple') ][['Product','ScreenH']]\n"
   ]
  },
  {
   "cell_type": "code",
   "execution_count": null,
   "id": "f03a004a",
   "metadata": {},
   "outputs": [],
   "source": [
    "# selection with  specific rows then columns\n",
    "df1[1:3][['Company','Product']]\n"
   ]
  },
  {
   "cell_type": "code",
   "execution_count": null,
   "id": "5a1d40c4",
   "metadata": {},
   "outputs": [],
   "source": [
    "#loc\n",
    "df1.loc[1:2,['Company','Product']]"
   ]
  },
  {
   "cell_type": "code",
   "execution_count": null,
   "id": "841ea26d",
   "metadata": {},
   "outputs": [],
   "source": [
    "# iloc\n",
    "df1.iloc[1:2,[1,2]]"
   ]
  },
  {
   "cell_type": "code",
   "execution_count": null,
   "id": "cd97012b",
   "metadata": {},
   "outputs": [],
   "source": [
    "\n",
    "df2 = df1 # wrong method\n",
    "df2 = df1.copy() # correct method"
   ]
  },
  {
   "cell_type": "markdown",
   "id": "33cde6d7",
   "metadata": {},
   "source": [
    "*Assignment*"
   ]
  },
  {
   "cell_type": "code",
   "execution_count": null,
   "id": "84fafbec",
   "metadata": {},
   "outputs": [],
   "source": [
    "df[1:3][['Company','Product']]=2 # wrong method"
   ]
  },
  {
   "cell_type": "code",
   "execution_count": 44,
   "id": "7669f554",
   "metadata": {},
   "outputs": [],
   "source": [
    "df.loc[1:2,['Company','Product']]=1 # correct method"
   ]
  },
  {
   "cell_type": "markdown",
   "id": "8a9f3f06",
   "metadata": {},
   "source": [
    "*apply , replace*"
   ]
  },
  {
   "cell_type": "code",
   "execution_count": null,
   "id": "dfdafb5f",
   "metadata": {},
   "outputs": [],
   "source": [
    "df1.Screen.unique()"
   ]
  },
  {
   "cell_type": "code",
   "execution_count": null,
   "id": "1422f742",
   "metadata": {},
   "outputs": [],
   "source": [
    "df1.Screen=df1['Screen'].replace({'Full HD':0, 'Standard':1, '4K Ultra HD':2, 'Quad HD+':3})"
   ]
  },
  {
   "cell_type": "code",
   "execution_count": null,
   "id": "1fd4b771",
   "metadata": {},
   "outputs": [],
   "source": [
    "\n",
    "def extract_cpu_family(cpu):\n",
    "    if 'i3' in cpu:\n",
    "        return 'i3'\n",
    "    elif 'i5' in cpu:\n",
    "        return 'i5'\n",
    "    elif 'i7' in cpu:\n",
    "        return 'i7'\n",
    "    elif 'Celeron' in cpu:\n",
    "        return 'Celeron'\n",
    "    else:\n",
    "        return 'Other'\n",
    "\n",
    "df['CPU_Family'] = df['CPU_model'].apply(extract_cpu_family)\n"
   ]
  },
  {
   "cell_type": "markdown",
   "id": "fd4e3961",
   "metadata": {},
   "source": [
    "*drop,isna,notna,fillna,dropna*"
   ]
  },
  {
   "cell_type": "code",
   "execution_count": 119,
   "id": "254ac9b1",
   "metadata": {},
   "outputs": [],
   "source": [
    "df2=df1.drop(['Company','Product'],axis=1)"
   ]
  },
  {
   "cell_type": "code",
   "execution_count": null,
   "id": "cb599a1b",
   "metadata": {},
   "outputs": [],
   "source": [
    "df1.isna().sum()"
   ]
  },
  {
   "cell_type": "code",
   "execution_count": 123,
   "id": "6b7252a4",
   "metadata": {},
   "outputs": [],
   "source": [
    "df1.notna()\n",
    "\n",
    "df2=df1[df1.notna()]\n"
   ]
  },
  {
   "cell_type": "code",
   "execution_count": null,
   "id": "07631910",
   "metadata": {},
   "outputs": [],
   "source": [
    "df1['Price_euros']=df1.Price_euros.fillna(df1.Price_euros.mean)"
   ]
  },
  {
   "cell_type": "code",
   "execution_count": null,
   "id": "9e085811",
   "metadata": {},
   "outputs": [],
   "source": [
    "df1=df1.dropna()"
   ]
  },
  {
   "cell_type": "markdown",
   "id": "a2d373e9",
   "metadata": {},
   "source": [
    "*groupby*"
   ]
  },
  {
   "cell_type": "code",
   "execution_count": null,
   "id": "bfef92bd",
   "metadata": {},
   "outputs": [],
   "source": [
    "#max price for each inches?\n",
    "df1.groupby('Company')['Price_euros'].mean()"
   ]
  },
  {
   "cell_type": "markdown",
   "id": "6e816359",
   "metadata": {},
   "source": [
    "**Some more Data Analysis**"
   ]
  },
  {
   "cell_type": "code",
   "execution_count": null,
   "id": "1a136023",
   "metadata": {},
   "outputs": [
    {
     "data": {
      "application/vnd.microsoft.datawrangler.viewer.v0+json": {
       "columns": [
        {
         "name": "OS",
         "rawType": "object",
         "type": "string"
        },
        {
         "name": "Ram",
         "rawType": "int64",
         "type": "integer"
        }
       ],
       "ref": "3305687a-a0c2-4d3e-9a98-5805f1aaf7bd",
       "rows": [
        [
         "Android",
         "4"
        ],
        [
         "Chrome OS",
         "16"
        ],
        [
         "Linux",
         "16"
        ],
        [
         "Mac OS X",
         "16"
        ],
        [
         "No OS",
         "16"
        ],
        [
         "Windows 10",
         "64"
        ],
        [
         "Windows 10 S",
         "16"
        ],
        [
         "Windows 7",
         "16"
        ],
        [
         "macOS",
         "16"
        ]
       ],
       "shape": {
        "columns": 1,
        "rows": 9
       }
      },
      "text/plain": [
       "OS\n",
       "Android          4\n",
       "Chrome OS       16\n",
       "Linux           16\n",
       "Mac OS X        16\n",
       "No OS           16\n",
       "Windows 10      64\n",
       "Windows 10 S    16\n",
       "Windows 7       16\n",
       "macOS           16\n",
       "Name: Ram, dtype: int64"
      ]
     },
     "execution_count": 48,
     "metadata": {},
     "output_type": "execute_result"
    }
   ],
   "source": [
    "# maxmimum os for each ram\n",
    "df1.groupby('OS')['Ram'].max()\n"
   ]
  },
  {
   "cell_type": "code",
   "execution_count": 124,
   "id": "b72ad4f0",
   "metadata": {},
   "outputs": [
    {
     "data": {
      "application/vnd.microsoft.datawrangler.viewer.v0+json": {
       "columns": [
        {
         "name": "index",
         "rawType": "int64",
         "type": "integer"
        },
        {
         "name": "Product",
         "rawType": "object",
         "type": "string"
        }
       ],
       "ref": "8e2b16c6-f992-4a89-8025-40fc59084d23",
       "rows": [
        [
         "41",
         "Aspire 3"
        ],
        [
         "52",
         "17-Y002nv (A10-9600P/6GB/2TB/Radeon"
        ],
        [
         "54",
         "15-ba043na (A12-9700P/8GB/2TB/W10)"
        ],
        [
         "79",
         "15-rb013nv (E2-9000e/4GB/500GB/W10)"
        ],
        [
         "89",
         "255 G6"
        ],
        [
         "263",
         "IdeaPad 320-15ABR"
        ],
        [
         "264",
         "15-bw009nv (A12-9720P/6GB/1TB/Radeon"
        ],
        [
         "293",
         "FX550IK-DM018T (FX-9830P/8GB/1TB/Radeon"
        ],
        [
         "300",
         "IdeaPad 320-15AST"
        ],
        [
         "338",
         "255 G6"
        ],
        [
         "347",
         "15-bw000nv (E2-9000e/4GB/500GB/Radeon"
        ],
        [
         "356",
         "17-ak002nv (A10-9620P/6GB/2TB/Radeon"
        ],
        [
         "390",
         "Aspire 3"
        ],
        [
         "393",
         "15-bw002nv (A6-9220/4GB/256GB/Radeon"
        ],
        [
         "410",
         "17-ak001nv (A6-9220/4GB/500GB/Radeon"
        ],
        [
         "428",
         "15-bw003nv (A9-Series-9420/4GB/256GB/FHD/W10)"
        ],
        [
         "464",
         "255 G6"
        ],
        [
         "465",
         "15-cd005nv (A9-9420/6GB/256GB/Radeon"
        ],
        [
         "473",
         "IdeaPad 320-15ABR"
        ],
        [
         "481",
         "VivoBook X540YA-XX519T"
        ],
        [
         "525",
         "Aspire 3"
        ],
        [
         "530",
         "X505BP-BR019T (A9-9420/4GB/1TB/Radeon"
        ],
        [
         "544",
         "15-BW037na (A9-9420/4GB/1TB/Radeon"
        ],
        [
         "573",
         "IdeaPad 320-15AST"
        ],
        [
         "584",
         "15-BW004nv (A9-9420/4GB/256GB/Radeon"
        ],
        [
         "595",
         "Aspire 5"
        ],
        [
         "624",
         "110-15ACL (A6-7310/4GB/500GB/W10)"
        ],
        [
         "628",
         "IdeaPad 320-15AST"
        ],
        [
         "702",
         "17-AK091ND (A9-9420/8GB/1TB/W10)"
        ],
        [
         "710",
         "IdeaPad 320-15AST"
        ],
        [
         "727",
         "Aspire 3"
        ],
        [
         "740",
         "X555BP-XX180T (A9-9420/4GB/1TB/Radeon"
        ],
        [
         "757",
         "IdeaPad 110-17ACL"
        ],
        [
         "817",
         "15-BA015wm (E2-7110/4GB/500GB/W10)"
        ],
        [
         "843",
         "IdeaPad Y700-15ACZ"
        ],
        [
         "853",
         "IdeaPad 320-15ABR"
        ],
        [
         "858",
         "Rog Strix"
        ],
        [
         "900",
         "Rog Strix"
        ],
        [
         "976",
         "255 G6"
        ],
        [
         "985",
         "17-AK091ND (A9-9420/8GB/1TB/W10)"
        ],
        [
         "989",
         "IdeaPad 310-15ABR"
        ],
        [
         "991",
         "IdeaPad 320-15AST"
        ],
        [
         "1021",
         "IdeaPad 320-15AST"
        ],
        [
         "1049",
         "15-bw011nv (A6-9220/4GB/1TB/FHD/W10)"
        ],
        [
         "1091",
         "E402WA-GA010T (E2-6110/2GB/32GB/W10)"
        ],
        [
         "1118",
         "E402WA-GA007T (E2-6110/4GB/64GB/W10"
        ],
        [
         "1129",
         "IdeaPad 320-15ABR"
        ],
        [
         "1137",
         "X555QG-DM242T (A10-9620P/4GB/1TB"
        ],
        [
         "1158",
         "Aspire 5"
        ],
        [
         "1165",
         "IdeaPad 320-15ABR"
        ]
       ],
       "shape": {
        "columns": 1,
        "rows": 62
       }
      },
      "text/plain": [
       "41                                 Aspire 3\n",
       "52      17-Y002nv (A10-9600P/6GB/2TB/Radeon\n",
       "54       15-ba043na (A12-9700P/8GB/2TB/W10)\n",
       "79      15-rb013nv (E2-9000e/4GB/500GB/W10)\n",
       "89                                   255 G6\n",
       "                       ...                 \n",
       "1215                      IdeaPad 110-17ACL\n",
       "1223                              Rog Strix\n",
       "1252                    Pavilion 15-AW003nv\n",
       "1261                         Aspire ES1-523\n",
       "1266            15-BW091ND (A9-9420/6GB/1TB\n",
       "Name: Product, Length: 62, dtype: object"
      ]
     },
     "execution_count": 124,
     "metadata": {},
     "output_type": "execute_result"
    }
   ],
   "source": [
    "#products that uses HDD\n",
    "df1[df1.PrimaryStorageType==0]['Product']\n",
    "#products that uses AMD cpu\n",
    "df1[df1.CPU_company=='AMD']['Product']"
   ]
  },
  {
   "cell_type": "code",
   "execution_count": 125,
   "id": "5ca70ded",
   "metadata": {},
   "outputs": [
    {
     "data": {
      "application/vnd.microsoft.datawrangler.viewer.v0+json": {
       "columns": [
        {
         "name": "Product",
         "rawType": "object",
         "type": "string"
        },
        {
         "name": "count",
         "rawType": "int64",
         "type": "integer"
        }
       ],
       "ref": "ddaeeb0b-2537-48e5-b896-1c83d81f5be1",
       "rows": [
        [
         "Alienware 17",
         "15"
        ],
        [
         "Rog Strix",
         "5"
        ],
        [
         "Alienware 15",
         "5"
        ],
        [
         "Legion Y520-15IKBN",
         "5"
        ],
        [
         "MacBook Pro",
         "4"
        ],
        [
         "Inspiron 5570",
         "4"
        ],
        [
         "Inspiron 7567",
         "3"
        ],
        [
         "Blade Pro",
         "3"
        ],
        [
         "Inspiron 5567",
         "3"
        ],
        [
         "IdeaPad Y900-17ISK",
         "3"
        ],
        [
         "Inspiron 7577",
         "3"
        ],
        [
         "Legion Y720-15IKB",
         "2"
        ],
        [
         "GS63VR 7RF",
         "2"
        ],
        [
         "Thinkpad X1",
         "2"
        ],
        [
         "Latitude 5580",
         "2"
        ],
        [
         "Thinkpad P51",
         "2"
        ],
        [
         "ThinkPad X1",
         "2"
        ],
        [
         "Precision 3520",
         "2"
        ],
        [
         "ThinkPad T470s",
         "2"
        ],
        [
         "Inspiron 5770",
         "2"
        ],
        [
         "GS73VR Stealth",
         "2"
        ],
        [
         "Notebook 9",
         "2"
        ],
        [
         "Predator G9-793",
         "2"
        ],
        [
         "GE72MVR 7RG",
         "2"
        ],
        [
         "GT72S Dominator",
         "2"
        ],
        [
         "GS60 Ghost",
         "1"
        ],
        [
         "GP62 7RDX",
         "1"
        ],
        [
         "GS43VR 7RE",
         "1"
        ],
        [
         "IdeaPad Y910-17ISK",
         "1"
        ],
        [
         "FX753VD-GC461T (i7-7700HQ/16GB/1TB",
         "1"
        ],
        [
         "Probook 430",
         "1"
        ],
        [
         "IdeaPad Y700-15ACZ",
         "1"
        ],
        [
         "GE63VR 7RE",
         "1"
        ],
        [
         "GT80S 6QE",
         "1"
        ],
        [
         "ProBook 450",
         "1"
        ],
        [
         "Precision 7520",
         "1"
        ],
        [
         "ThinkPad P51s",
         "1"
        ],
        [
         "Rog GL702VS-BA023T",
         "1"
        ],
        [
         "Rog G752VY-GC229T",
         "1"
        ],
        [
         "Portege Z30-C-16P",
         "1"
        ],
        [
         "GS63VR 6RF",
         "1"
        ],
        [
         "FX503VM-E4007T (i7-7700HQ/16GB/1TB",
         "1"
        ],
        [
         "Rog GL702VS-GC095T",
         "1"
        ],
        [
         "Rog GL552VW-CN470T",
         "1"
        ],
        [
         "Thinkpad P50",
         "1"
        ],
        [
         "ThinkPad 13",
         "1"
        ],
        [
         "Notebook Odyssey",
         "1"
        ],
        [
         "Inspiron 7559",
         "1"
        ],
        [
         "Rog G752VT-GC073T",
         "1"
        ],
        [
         "GE72VR Apache",
         "1"
        ]
       ],
       "shape": {
        "columns": 1,
        "rows": 120
       }
      },
      "text/plain": [
       "Product\n",
       "Alienware 17           15\n",
       "Rog Strix               5\n",
       "Alienware 15            5\n",
       "Legion Y520-15IKBN      5\n",
       "MacBook Pro             4\n",
       "                       ..\n",
       "ROG Zephyrus            1\n",
       "Rog GL502VM-DS74        1\n",
       "ZenBook UX530UQ-PRO     1\n",
       "Zbook 17                1\n",
       "Rog G752VS-BA171T       1\n",
       "Name: count, Length: 120, dtype: int64"
      ]
     },
     "execution_count": 125,
     "metadata": {},
     "output_type": "execute_result"
    }
   ],
   "source": [
    "#Products with no touchscreen and ram > 16\n",
    "\n",
    "df1[(df1['Ram'] >=16) &(df1['Touchscreen']=='No')]['Product'].value_counts()"
   ]
  },
  {
   "cell_type": "code",
   "execution_count": null,
   "id": "da535507",
   "metadata": {},
   "outputs": [],
   "source": [
    "#Mean Price each company sells\n",
    "df1.groupby('Company')['Price_euros'].mean()"
   ]
  },
  {
   "cell_type": "code",
   "execution_count": 126,
   "id": "495eca7d",
   "metadata": {},
   "outputs": [
    {
     "name": "stderr",
     "output_type": "stream",
     "text": [
      "/var/folders/gr/bkswjd_15kqc6h_w_4flf1t80000gn/T/ipykernel_35454/814061919.py:1: FutureWarning: Downcasting behavior in `replace` is deprecated and will be removed in a future version. To retain the old behavior, explicitly call `result.infer_objects(copy=False)`. To opt-in to the future behavior, set `pd.set_option('future.no_silent_downcasting', True)`\n",
      "  df1['Screen']= df1['Screen'].replace({'4K Ultra HD': 3, 'Full HD': 1, 'Quad HD+': 2, 'Standard': 0})\n",
      "/var/folders/gr/bkswjd_15kqc6h_w_4flf1t80000gn/T/ipykernel_35454/814061919.py:2: FutureWarning: Downcasting behavior in `replace` is deprecated and will be removed in a future version. To retain the old behavior, explicitly call `result.infer_objects(copy=False)`. To opt-in to the future behavior, set `pd.set_option('future.no_silent_downcasting', True)`\n",
      "  df1['SecondaryStorageType']= df1['SecondaryStorageType'].replace({'HDD': 1, 'Hybrid': 2, 'No': 0, 'SSD': 3})\n",
      "/var/folders/gr/bkswjd_15kqc6h_w_4flf1t80000gn/T/ipykernel_35454/814061919.py:3: FutureWarning: Downcasting behavior in `replace` is deprecated and will be removed in a future version. To retain the old behavior, explicitly call `result.infer_objects(copy=False)`. To opt-in to the future behavior, set `pd.set_option('future.no_silent_downcasting', True)`\n",
      "  df1['PrimaryStorageType']= df1['PrimaryStorageType'].replace({'HDD': 0, 'Hybrid': 1, 'Flash Storage': 2, 'SSD': 3})\n"
     ]
    }
   ],
   "source": [
    "df1['Screen']= df1['Screen'].replace({'4K Ultra HD': 3, 'Full HD': 1, 'Quad HD+': 2, 'Standard': 0})\n",
    "df1['SecondaryStorageType']= df1['SecondaryStorageType'].replace({'HDD': 1, 'Hybrid': 2, 'No': 0, 'SSD': 3})\n",
    "df1['PrimaryStorageType']= df1['PrimaryStorageType'].replace({'HDD': 0, 'Hybrid': 1, 'Flash Storage': 2, 'SSD': 3})\n",
    "df1['TypeName']=df1['TypeName'].replace({'Netbook' :0 ,'2-in-1 Convertible':1  ,\"Notebook\":2 , 'Ultrabook':3  ,'Gaming':4 , 'Workstation':5})\n"
   ]
  },
  {
   "cell_type": "markdown",
   "id": "888fdf7a",
   "metadata": {},
   "source": [
    "### Tasks - try to find new unseen trend in the dataset ."
   ]
  },
  {
   "cell_type": "code",
   "execution_count": null,
   "id": "87c2bab5",
   "metadata": {},
   "outputs": [],
   "source": []
  }
 ],
 "metadata": {
  "kernelspec": {
   "display_name": "Kaggle (Python 3.x)",
   "language": "python",
   "name": "kaggle"
  },
  "language_info": {
   "codemirror_mode": {
    "name": "ipython",
    "version": 3
   },
   "file_extension": ".py",
   "mimetype": "text/x-python",
   "name": "python",
   "nbconvert_exporter": "python",
   "pygments_lexer": "ipython3",
   "version": "3.10.16"
  }
 },
 "nbformat": 4,
 "nbformat_minor": 5
}
